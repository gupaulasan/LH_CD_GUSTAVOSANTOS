{
 "cells": [
  {
   "cell_type": "markdown",
   "id": "74666ba9-f63d-4bd5-94ec-c0a85e1929ee",
   "metadata": {},
   "source": [
    "# Descrição do problema\n",
    "O problema de precificação é um problema de **regressão**, uma vez que os valores disponíveis serão utilizados para treinar um modelo para que ele possa estimar um valor numérico contínuo, o **preço**. \n",
    "\n",
    "Para o problema e a base de dados apresentados, alguns passos deverão ser seguidos para o sucesso da predição:\n",
    "1. Remoção da coluna versão\n",
    "2. Binarização das variáveis, usando a função `pandas.get_dummies()`\n",
    "3. Aplicação dos datasets em 2 modelos diferentes: `sklearn.ensemble.RandomForestRegressor()` e `sklearn.neighbors.KNeighborsRegressor()`\n",
    "4. Uso de 2 modelos de validação cruzada, para adequação de hiperparâmetros: `sklearn.model_selection.RandomizedSearchCV()` para o modelo RandomForest e `sklearn.model_selection.GridSearchCV()` para o KNeighbors \n",
    "5. Verificação de performance por MSE, usando a função `sklearn.metrics.mean_squared_error`\n",
    "6. Comparação de performance entre as melhores versões de cada modelo\n",
    "7. Aplicação do melhor dos dois modelos no dataset de teste\n",
    "8. Predição da coluna preço para `cars_test.csv`\n",
    "9. Exportar o arquivo `predicted.csv`\n",
    "\n",
    "\n",
    "<b> Todas as escolhas serão devidamente justificadas ao longo do relatório </b>"
   ]
  },
  {
   "cell_type": "code",
   "execution_count": 1,
   "id": "1940f76e-7c29-4102-8cfd-9f0e468b616c",
   "metadata": {},
   "outputs": [],
   "source": [
    "import pandas as pd\n",
    "import numpy as np\n",
    "import matplotlib.pyplot as plt\n",
    "import sklearn\n",
    "from sklearn.model_selection import RandomizedSearchCV, train_test_split, GridSearchCV\n",
    "from sklearn.neighbors import KNeighborsRegressor\n",
    "from sklearn.ensemble import RandomForestRegressor\n",
    "from sklearn.linear_model import LogisticRegression\n",
    "from sklearn.metrics import mean_squared_error, make_scorer"
   ]
  },
  {
   "cell_type": "code",
   "execution_count": 2,
   "id": "8f1810da-c6b6-460e-a6b8-fb39a344f019",
   "metadata": {},
   "outputs": [],
   "source": [
    "cars_train = pd.read_csv('datasets/cars_train.csv', engine='python',encoding='utf-16', sep=None)\n",
    "cars_test = pd.read_csv('datasets/cars_test.csv',engine='python',encoding='utf-16',sep=None)"
   ]
  },
  {
   "cell_type": "code",
   "execution_count": 3,
   "id": "d0c5abce-ef8a-49de-ba34-5ad784d683a3",
   "metadata": {},
   "outputs": [],
   "source": [
    "dummy_cols = ['marca','modelo','cambio','tipo','cor','tipo_vendedor','estado_vendedor','anunciante']"
   ]
  },
  {
   "cell_type": "markdown",
   "id": "a46e8fd2-b925-4c03-98d2-cf23c714d7df",
   "metadata": {},
   "source": [
    "### Função para facilitar o tratamento dos dados"
   ]
  },
  {
   "cell_type": "code",
   "execution_count": 4,
   "id": "d8a8fb94-5e2e-4f63-8a32-fc872701b4ba",
   "metadata": {},
   "outputs": [],
   "source": [
    "def clean_data(dataframe,dummy_cols=[]):\n",
    "    \"\"\"\n",
    "    Limpa um dataframe para essa aplicação específica\n",
    "    Args:\n",
    "        dataframe (pandas.DataFrame): O dataframe que se quer limpar\n",
    "        ev (float): o valor que se quer substituir no volume do motor de carros elétricos\n",
    "        eletricos(list): lista dos três primeiros caracteres da versão do carro\n",
    "        dummy_cols(list): lista das colunas que devem ser transformadas em valor numérico\n",
    "    \"\"\"\n",
    "    #Copia o df para não alterar o df original\n",
    "    df = dataframe.copy()\n",
    "    binary=[]\n",
    "    #Seleciona todas as colunas binárias\n",
    "    for col in dataframe.columns:\n",
    "        if (len(pd.unique(df[col]))<=2) and (df[col].isna().sum() !=0):\n",
    "            binary.append(col)\n",
    "    #Altera os valores das colunas para 1 ou 0\n",
    "    for c in binary:\n",
    "        df[c] = df[c].notnull().astype('int')\n",
    "   #Faz a mesma operação para duas colunas que não entram no loop\n",
    "    df['blindado'] = df['blindado'].map({'S':1,'N':0})\n",
    "    df['elegivel_revisao'] = df['elegivel_revisao'].astype('int')\n",
    "    df['num_fotos'] = df['num_fotos'].fillna(0) \n",
    "    #Altera colunas que não precisam ser dummy columns\n",
    "    df['id'] = df['id'].astype('float')\n",
    "    df['entrega_delivery'] = df['entrega_delivery'].astype('int')\n",
    "    df['troca'] = df['troca'].astype('int')\n",
    "    #Retira colunas desncessárias\n",
    "    df.drop(['versao','cidade_vendedor'],axis=1,inplace=True)\n",
    "    #Transforma colunas categóricas em colunas numéricas\n",
    "    dummy_df = pd.get_dummies(df, columns=dummy_cols,drop_first=True)\n",
    "    return dummy_df"
   ]
  },
  {
   "cell_type": "markdown",
   "id": "f4f09529-02a2-4ee7-bdd8-be184c84609e",
   "metadata": {},
   "source": [
    "### Alteração para valores numéricos\n",
    "Os modelos utilizados não processam valores diferentes de valores numéricos"
   ]
  },
  {
   "cell_type": "code",
   "execution_count": 5,
   "id": "2452b1f2-57f2-43bf-81c5-08e369f2afa9",
   "metadata": {},
   "outputs": [],
   "source": [
    "dummy_train = clean_data(cars_train,dummy_cols=dummy_cols)"
   ]
  },
  {
   "cell_type": "code",
   "execution_count": 6,
   "id": "97b7fab4-798b-483e-9abb-c46c603ee84c",
   "metadata": {},
   "outputs": [],
   "source": [
    "dummy_test = clean_data(cars_test,dummy_cols=dummy_cols)"
   ]
  },
  {
   "cell_type": "code",
   "execution_count": 7,
   "id": "4a68cb5c-488c-4672-afca-65b70d99241d",
   "metadata": {},
   "outputs": [],
   "source": [
    "col_unseen = list(set(dummy_test.columns)-set(dummy_train.columns))"
   ]
  },
  {
   "cell_type": "code",
   "execution_count": 8,
   "id": "3df488e7-a046-48d2-bd95-d0d8f7cc1741",
   "metadata": {},
   "outputs": [],
   "source": [
    "col_unused = list(set(dummy_train.columns)-set(dummy_test.columns))"
   ]
  },
  {
   "cell_type": "code",
   "execution_count": 9,
   "id": "99c835b7-062d-4395-9501-bc8d2ff564eb",
   "metadata": {},
   "outputs": [],
   "source": [
    "y = dummy_train['preco']"
   ]
  },
  {
   "cell_type": "code",
   "execution_count": 10,
   "id": "6bb6b45c-1120-44e1-be57-4e77cf53e1e5",
   "metadata": {},
   "outputs": [],
   "source": [
    "dummy_train.drop(col_unused, axis=1, inplace=True)\n",
    "dummy_test.drop(col_unseen,axis=1,inplace=True)"
   ]
  },
  {
   "cell_type": "code",
   "execution_count": 11,
   "id": "6480036a-40de-405c-ac25-4223d65ae80e",
   "metadata": {},
   "outputs": [],
   "source": [
    "#Dividir em features e target\n",
    "X = dummy_train.drop('id', axis=1)"
   ]
  },
  {
   "cell_type": "code",
   "execution_count": 12,
   "id": "fee93206-477c-45c5-a888-979128b7dbc7",
   "metadata": {},
   "outputs": [],
   "source": [
    "seed=2710"
   ]
  },
  {
   "cell_type": "markdown",
   "id": "5a2cd8e1-f08c-4184-aa97-0500d95b1d29",
   "metadata": {},
   "source": [
    "## Utilização de 2 modelos\n",
    "Serão comparados dois modelos diferentes para o problema posto, isso permite que haja comparação com pelo menos uma alternativa.\n",
    "### Métrica de validação\n",
    "Foi selecionado o erro quadrático médio (MSE) por ser uma boa métrica para modelos de regressão em que a varíavel alvo é contínua (um valor numérico arbitrário)\n",
    "### RandomForestRegressor\n",
    "Foi utilizada a validação cruzada `RandomizedSearchCV()` para seleção de hiperparâmetros da regressão de RandomForest porque há uma quantidade grande de combinações possíveis para os hiperparâmetros testados:\n",
    "- max_depth\n",
    "- max_features\n",
    "- min_samples_split\n",
    "- n_estimators"
   ]
  },
  {
   "cell_type": "code",
   "execution_count": 13,
   "id": "ccb4b871-14c7-46ff-82a6-5dc2094711af",
   "metadata": {},
   "outputs": [],
   "source": [
    "param_dist = {'max_depth':range(4,19,2),\n",
    "             'max_features':range(2,21),\n",
    "             'min_samples_split':range(2,11),\n",
    "             'n_estimators':[100,200,300]\n",
    "             }\n",
    "rfr = RandomForestRegressor(random_state=seed)\n",
    "mse = make_scorer(mean_squared_error)\n",
    "random_search = RandomizedSearchCV(estimator=rfr,\n",
    "                                  param_distributions=param_dist,\n",
    "                                  n_iter=40,\n",
    "                                  cv=5,\n",
    "                                  scoring=mse)"
   ]
  },
  {
   "cell_type": "code",
   "execution_count": 14,
   "id": "6e733cff-97e7-47e6-9fc9-37c595ae128e",
   "metadata": {},
   "outputs": [],
   "source": [
    "rs = random_search.fit(X,y)"
   ]
  },
  {
   "cell_type": "code",
   "execution_count": 15,
   "id": "d63c9224-4d48-45e9-aa41-23503ceb52be",
   "metadata": {},
   "outputs": [
    {
     "data": {
      "text/plain": [
       "6008562426.728704"
      ]
     },
     "execution_count": 15,
     "metadata": {},
     "output_type": "execute_result"
    }
   ],
   "source": [
    "rs.best_score_"
   ]
  },
  {
   "cell_type": "code",
   "execution_count": 16,
   "id": "14bb47bd-fdb6-43e8-a3e8-c01d3d9ec529",
   "metadata": {},
   "outputs": [
    {
     "data": {
      "text/plain": [
       "{'n_estimators': 100,\n",
       " 'min_samples_split': 2,\n",
       " 'max_features': 5,\n",
       " 'max_depth': 4}"
      ]
     },
     "execution_count": 16,
     "metadata": {},
     "output_type": "execute_result"
    }
   ],
   "source": [
    "rs.best_params_"
   ]
  },
  {
   "cell_type": "markdown",
   "id": "d2a2ca8f-0e40-4e82-ac01-3cebe8dbbe8a",
   "metadata": {
    "tags": []
   },
   "source": [
    "### RandomForestRegressor\n",
    "Foi utilizada a validação cruzada `GridSearchCV()` para seleção de hiperparâmetros da regressão de KNeighbors porque há uma quantidade menor de combinações possíveis para os hiperparâmetros testados:\n",
    "- n_neighbors\n",
    "- weights"
   ]
  },
  {
   "cell_type": "code",
   "execution_count": 18,
   "id": "9cafc8a6-b891-4384-9cc4-dd3c21c2e28a",
   "metadata": {},
   "outputs": [],
   "source": [
    "param_knn = {'n_neighbors': range(2,20),\n",
    "            'weights':['uniform','distance']}\n",
    "KNNReg = KNeighborsRegressor()\n",
    "grid_knn = GridSearchCV(estimator=KNNReg,\n",
    "                        param_grid=param_knn,\n",
    "                        scoring=mse,\n",
    "                        cv=5)"
   ]
  },
  {
   "cell_type": "code",
   "execution_count": 19,
   "id": "e7a2c2c0-ffb3-4fe3-b5b6-5563d97b7172",
   "metadata": {},
   "outputs": [],
   "source": [
    "gs =grid_knn.fit(X, y)"
   ]
  },
  {
   "cell_type": "code",
   "execution_count": 20,
   "id": "a87f2c3e-0662-4546-84b2-8f681889e9e9",
   "metadata": {},
   "outputs": [
    {
     "data": {
      "text/plain": [
       "8265696822.311914"
      ]
     },
     "execution_count": 20,
     "metadata": {},
     "output_type": "execute_result"
    }
   ],
   "source": [
    "gs.best_score_"
   ]
  },
  {
   "cell_type": "code",
   "execution_count": 21,
   "id": "f9093e04-4693-4075-81c0-149261479bb3",
   "metadata": {},
   "outputs": [
    {
     "data": {
      "text/plain": [
       "{'n_neighbors': 2, 'weights': 'distance'}"
      ]
     },
     "execution_count": 21,
     "metadata": {},
     "output_type": "execute_result"
    }
   ],
   "source": [
    "gs.best_params_"
   ]
  },
  {
   "cell_type": "markdown",
   "id": "94a27a82-7463-4974-85f6-0ba3b033cb9a",
   "metadata": {},
   "source": [
    "## Modelo selecionado\n",
    "Pela validação realizada acima, foi selecinado o modelo `RandomForestRegression()`, que apresentou o menor MSE entre os modelos testados\n",
    "\n",
    "### Hiperparâmetros\n",
    "Os hiperparrâmetros que melhor de adequam ao problema no modelo `RandomForestRegression()` são:\n",
    "- max_depth = 4\n",
    "- max_features = 5\n",
    "- min_samples_split = 2\n",
    "- n_estimators = 100\n",
    "\n",
    "<b> Este será o modelo utilizado na predição dos preços do arquivo *cars_train.csv*</b>"
   ]
  },
  {
   "cell_type": "code",
   "execution_count": 22,
   "id": "b6144b56-1924-4125-aa2d-dcb0ea659890",
   "metadata": {},
   "outputs": [],
   "source": [
    "X_test = dummy_test.drop('id', axis=1)"
   ]
  },
  {
   "cell_type": "code",
   "execution_count": 23,
   "id": "5ccabfb1-dbdd-440d-a961-e642da828749",
   "metadata": {},
   "outputs": [
    {
     "data": {
      "text/html": [
       "<style>#sk-container-id-1 {color: black;background-color: white;}#sk-container-id-1 pre{padding: 0;}#sk-container-id-1 div.sk-toggleable {background-color: white;}#sk-container-id-1 label.sk-toggleable__label {cursor: pointer;display: block;width: 100%;margin-bottom: 0;padding: 0.3em;box-sizing: border-box;text-align: center;}#sk-container-id-1 label.sk-toggleable__label-arrow:before {content: \"▸\";float: left;margin-right: 0.25em;color: #696969;}#sk-container-id-1 label.sk-toggleable__label-arrow:hover:before {color: black;}#sk-container-id-1 div.sk-estimator:hover label.sk-toggleable__label-arrow:before {color: black;}#sk-container-id-1 div.sk-toggleable__content {max-height: 0;max-width: 0;overflow: hidden;text-align: left;background-color: #f0f8ff;}#sk-container-id-1 div.sk-toggleable__content pre {margin: 0.2em;color: black;border-radius: 0.25em;background-color: #f0f8ff;}#sk-container-id-1 input.sk-toggleable__control:checked~div.sk-toggleable__content {max-height: 200px;max-width: 100%;overflow: auto;}#sk-container-id-1 input.sk-toggleable__control:checked~label.sk-toggleable__label-arrow:before {content: \"▾\";}#sk-container-id-1 div.sk-estimator input.sk-toggleable__control:checked~label.sk-toggleable__label {background-color: #d4ebff;}#sk-container-id-1 div.sk-label input.sk-toggleable__control:checked~label.sk-toggleable__label {background-color: #d4ebff;}#sk-container-id-1 input.sk-hidden--visually {border: 0;clip: rect(1px 1px 1px 1px);clip: rect(1px, 1px, 1px, 1px);height: 1px;margin: -1px;overflow: hidden;padding: 0;position: absolute;width: 1px;}#sk-container-id-1 div.sk-estimator {font-family: monospace;background-color: #f0f8ff;border: 1px dotted black;border-radius: 0.25em;box-sizing: border-box;margin-bottom: 0.5em;}#sk-container-id-1 div.sk-estimator:hover {background-color: #d4ebff;}#sk-container-id-1 div.sk-parallel-item::after {content: \"\";width: 100%;border-bottom: 1px solid gray;flex-grow: 1;}#sk-container-id-1 div.sk-label:hover label.sk-toggleable__label {background-color: #d4ebff;}#sk-container-id-1 div.sk-serial::before {content: \"\";position: absolute;border-left: 1px solid gray;box-sizing: border-box;top: 0;bottom: 0;left: 50%;z-index: 0;}#sk-container-id-1 div.sk-serial {display: flex;flex-direction: column;align-items: center;background-color: white;padding-right: 0.2em;padding-left: 0.2em;position: relative;}#sk-container-id-1 div.sk-item {position: relative;z-index: 1;}#sk-container-id-1 div.sk-parallel {display: flex;align-items: stretch;justify-content: center;background-color: white;position: relative;}#sk-container-id-1 div.sk-item::before, #sk-container-id-1 div.sk-parallel-item::before {content: \"\";position: absolute;border-left: 1px solid gray;box-sizing: border-box;top: 0;bottom: 0;left: 50%;z-index: -1;}#sk-container-id-1 div.sk-parallel-item {display: flex;flex-direction: column;z-index: 1;position: relative;background-color: white;}#sk-container-id-1 div.sk-parallel-item:first-child::after {align-self: flex-end;width: 50%;}#sk-container-id-1 div.sk-parallel-item:last-child::after {align-self: flex-start;width: 50%;}#sk-container-id-1 div.sk-parallel-item:only-child::after {width: 0;}#sk-container-id-1 div.sk-dashed-wrapped {border: 1px dashed gray;margin: 0 0.4em 0.5em 0.4em;box-sizing: border-box;padding-bottom: 0.4em;background-color: white;}#sk-container-id-1 div.sk-label label {font-family: monospace;font-weight: bold;display: inline-block;line-height: 1.2em;}#sk-container-id-1 div.sk-label-container {text-align: center;}#sk-container-id-1 div.sk-container {/* jupyter's `normalize.less` sets `[hidden] { display: none; }` but bootstrap.min.css set `[hidden] { display: none !important; }` so we also need the `!important` here to be able to override the default hidden behavior on the sphinx rendered scikit-learn.org. See: https://github.com/scikit-learn/scikit-learn/issues/21755 */display: inline-block !important;position: relative;}#sk-container-id-1 div.sk-text-repr-fallback {display: none;}</style><div id=\"sk-container-id-1\" class=\"sk-top-container\"><div class=\"sk-text-repr-fallback\"><pre>RandomForestRegressor(max_depth=4, max_features=5)</pre><b>In a Jupyter environment, please rerun this cell to show the HTML representation or trust the notebook. <br />On GitHub, the HTML representation is unable to render, please try loading this page with nbviewer.org.</b></div><div class=\"sk-container\" hidden><div class=\"sk-item\"><div class=\"sk-estimator sk-toggleable\"><input class=\"sk-toggleable__control sk-hidden--visually\" id=\"sk-estimator-id-1\" type=\"checkbox\" checked><label for=\"sk-estimator-id-1\" class=\"sk-toggleable__label sk-toggleable__label-arrow\">RandomForestRegressor</label><div class=\"sk-toggleable__content\"><pre>RandomForestRegressor(max_depth=4, max_features=5)</pre></div></div></div></div></div>"
      ],
      "text/plain": [
       "RandomForestRegressor(max_depth=4, max_features=5)"
      ]
     },
     "execution_count": 23,
     "metadata": {},
     "output_type": "execute_result"
    }
   ],
   "source": [
    "RandFR = RandomForestRegressor(max_depth=4, max_features=5, min_samples_split=2, n_estimators=100)\n",
    "\n",
    "RandFR.fit(X,y)"
   ]
  },
  {
   "cell_type": "code",
   "execution_count": 24,
   "id": "3f78f5c8-f175-4786-bce9-f3d90f3210c0",
   "metadata": {},
   "outputs": [],
   "source": [
    "y_predicitons = RandFR.predict(X_test)"
   ]
  },
  {
   "cell_type": "code",
   "execution_count": 26,
   "id": "2e70b695-6ad8-4ff0-a6ee-88003328139c",
   "metadata": {},
   "outputs": [],
   "source": [
    "predictions = pd.DataFrame({'id':cars_test['id'],'preco':y_predicitons})\n",
    "predictions.to_csv(\"predicted.csv\",index=False)"
   ]
  }
 ],
 "metadata": {
  "kernelspec": {
   "display_name": "Python 3 (ipykernel)",
   "language": "python",
   "name": "python3"
  },
  "language_info": {
   "codemirror_mode": {
    "name": "ipython",
    "version": 3
   },
   "file_extension": ".py",
   "mimetype": "text/x-python",
   "name": "python",
   "nbconvert_exporter": "python",
   "pygments_lexer": "ipython3",
   "version": "3.10.9"
  }
 },
 "nbformat": 4,
 "nbformat_minor": 5
}
